{
 "cells": [
  {
   "cell_type": "code",
   "execution_count": 1,
   "metadata": {},
   "outputs": [
    {
     "name": "stdout",
     "output_type": "stream",
     "text": [
      "Requirement already satisfied: PyPDF2 in /Users/subahnsh47/miniforge3/lib/python3.10/site-packages (3.0.1)\n",
      "Note: you may need to restart the kernel to use updated packages.\n"
     ]
    }
   ],
   "source": [
    "%pip install PyPDF2"
   ]
  },
  {
   "cell_type": "code",
   "execution_count": 2,
   "metadata": {},
   "outputs": [
    {
     "name": "stdout",
     "output_type": "stream",
     "text": [
      "1\n",
      "SUBHANSH YADAV\n",
      "Car Price Prediction:\n",
      "Laptop Price Prediction:Date of Birth\n",
      "22nd December, 2002Phone: +91 7898117301Email: subhanshyadav.sy@gmail.com\n",
      "Address\n",
      "Indore, INDIARESUME\n",
      "PROFILE PROJECTS\n",
      "2020 - 2024Institute of Engineering, IPS Academy\n",
      "B.tech CSE(Data Science)\n",
      "2019 - 2020 Prestige Public School\n",
      "12th CBSEEDUCATION\n",
      "SKILLSLANGUAGES\n",
      "Python\n",
      "Machine Leanring\n",
      "Data AnalysisDeep Learning\n",
      "Artificial IntelligenceEnglish\n",
      "Hindi\n",
      "INTERESTS\n",
      "Badminton\n",
      "Automotive Enthusiast\n",
      "SwimmingAccurate and immensely motivated technical student. Organized and dependable candidate. Willingness to take on\n",
      "added responsibilities to meet team goals. A quick learner with adequate technical skills, combined with ability to work\n",
      "in fast paced environment. Knowledge specialization in python, EDA and ML.\n",
      "Built an Car Price Prediction website where we can get a fair\n",
      "resale value for our car. This is done using a XG-Boost model and\n",
      "data analysis on car price dataset including its preprocessing and\n",
      "with a accuracy of 91%.\n",
      "Link: https://github.com/Subhansh47/CAR-PRICE-PREDICTION\n",
      "A laptop Price predictor in which we can predict the price of a laptop\n",
      "by entering the specifications of it. This is done using a XG-Boost\n",
      "model and data analysis on laptops price dataset including its\n",
      "preprocessing and with a accuracy of 91%.\n",
      "Link: https://github.com/Subhansh47/LAPTOP-PRICE/\n",
      "LinkedIn: https://in.linkedin.com/in/subhansh-yadav-4193b9195vCERTIFICATION\n",
      "Machine Learning Certificate from Jovian.\n",
      "Link: https://jovian.com/learn/machine-learning-with-python-zero-to-\n",
      "gbms\n"
     ]
    }
   ],
   "source": [
    "# importing required modules \n",
    "from PyPDF2 import PdfReader \n",
    "\n",
    "# creating a pdf reader object \n",
    "reader = PdfReader('SUBHANSH_CV.pdf') \n",
    "\n",
    "# printing number of pages in pdf file \n",
    "print(len(reader.pages)) \n",
    "\n",
    "# getting a specific page from the pdf file \n",
    "page = reader.pages[0] \n",
    "\n",
    "# extracting text from page \n",
    "text = page.extract_text() \n",
    "print(text) \n"
   ]
  },
  {
   "cell_type": "code",
   "execution_count": 3,
   "metadata": {},
   "outputs": [
    {
     "ename": "ModuleNotFoundError",
     "evalue": "No module named 'nltk'",
     "output_type": "error",
     "traceback": [
      "\u001b[0;31m---------------------------------------------------------------------------\u001b[0m",
      "\u001b[0;31mModuleNotFoundError\u001b[0m                       Traceback (most recent call last)",
      "\u001b[1;32m/Users/subahnsh47/Downloads/untitled folder/nlp/resume_Reader/predict.ipynb Cell 3\u001b[0m line \u001b[0;36m2\n\u001b[1;32m      <a href='vscode-notebook-cell:/Users/subahnsh47/Downloads/untitled%20folder/nlp/resume_Reader/predict.ipynb#W2sZmlsZQ%3D%3D?line=0'>1</a>\u001b[0m \u001b[39mimport\u001b[39;00m \u001b[39mre\u001b[39;00m\n\u001b[0;32m----> <a href='vscode-notebook-cell:/Users/subahnsh47/Downloads/untitled%20folder/nlp/resume_Reader/predict.ipynb#W2sZmlsZQ%3D%3D?line=1'>2</a>\u001b[0m \u001b[39mimport\u001b[39;00m \u001b[39mnltk\u001b[39;00m\n\u001b[1;32m      <a href='vscode-notebook-cell:/Users/subahnsh47/Downloads/untitled%20folder/nlp/resume_Reader/predict.ipynb#W2sZmlsZQ%3D%3D?line=2'>3</a>\u001b[0m \u001b[39mdef\u001b[39;00m \u001b[39mpreprocessing\u001b[39m(text):\n\u001b[1;32m      <a href='vscode-notebook-cell:/Users/subahnsh47/Downloads/untitled%20folder/nlp/resume_Reader/predict.ipynb#W2sZmlsZQ%3D%3D?line=3'>4</a>\u001b[0m     text\u001b[39m=\u001b[39mre\u001b[39m.\u001b[39msub(\u001b[39m'\u001b[39m\u001b[39mhttp\u001b[39m\u001b[39m\\\u001b[39m\u001b[39mS+\u001b[39m\u001b[39m\\\u001b[39m\u001b[39ms\u001b[39m\u001b[39m'\u001b[39m,\u001b[39m'\u001b[39m\u001b[39m'\u001b[39m,text )\n",
      "\u001b[0;31mModuleNotFoundError\u001b[0m: No module named 'nltk'"
     ]
    }
   ],
   "source": [
    "import re\n",
    "import nltk\n",
    "def preprocessing(text):\n",
    "    text=re.sub('http\\S+\\s','',text )\n",
    "    text=re.sub('[^a-zA-Z]', ' ',text )\n",
    "    text=text.lower()\n",
    "    return (text)\n"
   ]
  },
  {
   "cell_type": "code",
   "execution_count": null,
   "metadata": {},
   "outputs": [
    {
     "name": "stderr",
     "output_type": "stream",
     "text": [
      "/Users/subahnsh47/Library/Python/3.9/lib/python/site-packages/sklearn/base.py:348: InconsistentVersionWarning: Trying to unpickle estimator KNeighborsClassifier from version 1.3.0 when using version 1.3.1. This might lead to breaking code or invalid results. Use at your own risk. For more info please refer to:\n",
      "https://scikit-learn.org/stable/model_persistence.html#security-maintainability-limitations\n",
      "  warnings.warn(\n",
      "/Users/subahnsh47/Library/Python/3.9/lib/python/site-packages/sklearn/base.py:348: InconsistentVersionWarning: Trying to unpickle estimator LabelBinarizer from version 1.3.0 when using version 1.3.1. This might lead to breaking code or invalid results. Use at your own risk. For more info please refer to:\n",
      "https://scikit-learn.org/stable/model_persistence.html#security-maintainability-limitations\n",
      "  warnings.warn(\n",
      "/Users/subahnsh47/Library/Python/3.9/lib/python/site-packages/sklearn/base.py:348: InconsistentVersionWarning: Trying to unpickle estimator OneVsRestClassifier from version 1.3.0 when using version 1.3.1. This might lead to breaking code or invalid results. Use at your own risk. For more info please refer to:\n",
      "https://scikit-learn.org/stable/model_persistence.html#security-maintainability-limitations\n",
      "  warnings.warn(\n",
      "/Users/subahnsh47/Library/Python/3.9/lib/python/site-packages/sklearn/base.py:348: InconsistentVersionWarning: Trying to unpickle estimator TfidfTransformer from version 1.3.0 when using version 1.3.1. This might lead to breaking code or invalid results. Use at your own risk. For more info please refer to:\n",
      "https://scikit-learn.org/stable/model_persistence.html#security-maintainability-limitations\n",
      "  warnings.warn(\n",
      "/Users/subahnsh47/Library/Python/3.9/lib/python/site-packages/sklearn/base.py:348: InconsistentVersionWarning: Trying to unpickle estimator TfidfVectorizer from version 1.3.0 when using version 1.3.1. This might lead to breaking code or invalid results. Use at your own risk. For more info please refer to:\n",
      "https://scikit-learn.org/stable/model_persistence.html#security-maintainability-limitations\n",
      "  warnings.warn(\n"
     ]
    }
   ],
   "source": [
    "import pickle\n",
    "Model=pickle.load(open('Model.pkl','rb'))\n",
    "tfidf=pickle.load(open('tfidf.pkl','rb'))"
   ]
  },
  {
   "cell_type": "code",
   "execution_count": null,
   "metadata": {},
   "outputs": [],
   "source": [
    "category_mapping = {\n",
    "            15: \"Java Developer\",\n",
    "            23: \"Testing\",\n",
    "            8: \"DevOps Engineer\",\n",
    "            20: \"Python Developer\",\n",
    "            24: \"Web Designing\",\n",
    "            12: \"HR\",\n",
    "            13: \"Hadoop\",\n",
    "            3: \"Blockchain\",\n",
    "            10: \"ETL Developer\",\n",
    "            18: \"Operations Manager\",\n",
    "            6: \"Data Science\",\n",
    "            22: \"Sales\",\n",
    "            16: \"Mechanical Engineer\",\n",
    "            1: \"Arts\",\n",
    "            7: \"Database\",\n",
    "            11: \"Electrical Engineering\",\n",
    "            14: \"Health and fitness\",\n",
    "            19: \"PMO\",\n",
    "            4: \"Business Analyst\",\n",
    "            9: \"DotNet Developer\",\n",
    "            2: \"Automation Testing\",\n",
    "            17: \"Network Security Engineer\",\n",
    "            21: \"SAP Developer\",\n",
    "            5: \"Civil Engineer\",\n",
    "            0: \"Advocate\",\n",
    "        }"
   ]
  },
  {
   "cell_type": "code",
   "execution_count": null,
   "metadata": {},
   "outputs": [],
   "source": [
    "x=text"
   ]
  },
  {
   "cell_type": "code",
   "execution_count": null,
   "metadata": {},
   "outputs": [],
   "source": [
    "def predict(x):\n",
    "    x=preprocessing(x)\n",
    "    x=tfidf.transform([x])\n",
    "    pred=int(Model.predict(x))\n",
    "\n",
    "    return (category_mapping[pred])"
   ]
  },
  {
   "cell_type": "code",
   "execution_count": null,
   "metadata": {},
   "outputs": [
    {
     "name": "stderr",
     "output_type": "stream",
     "text": [
      "/var/folders/nz/5kv3kx313b105snf2ltp8cvh0000gn/T/ipykernel_6808/3684153264.py:4: DeprecationWarning: Conversion of an array with ndim > 0 to a scalar is deprecated, and will error in future. Ensure you extract a single element from your array before performing this operation. (Deprecated NumPy 1.25.)\n",
      "  pred=int(Model.predict(x))\n"
     ]
    },
    {
     "data": {
      "text/plain": [
       "'Data Science'"
      ]
     },
     "execution_count": 32,
     "metadata": {},
     "output_type": "execute_result"
    }
   ],
   "source": [
    "predict(x)"
   ]
  },
  {
   "cell_type": "code",
   "execution_count": null,
   "metadata": {},
   "outputs": [
    {
     "name": "stdout",
     "output_type": "stream",
     "text": [
      "Defaulting to user installation because normal site-packages is not writeable\n",
      "Requirement already satisfied: sklearn in /Users/subahnsh47/Library/Python/3.9/lib/python/site-packages (0.0.post9)\n",
      "\u001b[33mWARNING: You are using pip version 21.2.4; however, version 23.2.1 is available.\n",
      "You should consider upgrading via the '/Library/Developer/CommandLineTools/usr/bin/python3 -m pip install --upgrade pip' command.\u001b[0m\n",
      "Note: you may need to restart the kernel to use updated packages.\n"
     ]
    }
   ],
   "source": [
    "%pip install sklearn"
   ]
  },
  {
   "cell_type": "code",
   "execution_count": null,
   "metadata": {},
   "outputs": [],
   "source": []
  }
 ],
 "metadata": {
  "kernelspec": {
   "display_name": "Python 3.11.4 64-bit",
   "language": "python",
   "name": "python3"
  },
  "language_info": {
   "codemirror_mode": {
    "name": "ipython",
    "version": 3
   },
   "file_extension": ".py",
   "mimetype": "text/x-python",
   "name": "python",
   "nbconvert_exporter": "python",
   "pygments_lexer": "ipython3",
   "version": "3.10.12"
  },
  "orig_nbformat": 4,
  "vscode": {
   "interpreter": {
    "hash": "aee8b7b246df8f9039afb4144a1f6fd8d2ca17a180786b69acc140d282b71a49"
   }
  }
 },
 "nbformat": 4,
 "nbformat_minor": 2
}
